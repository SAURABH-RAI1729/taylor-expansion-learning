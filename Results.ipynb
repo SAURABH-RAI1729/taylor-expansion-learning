{
 "cells": [
  {
   "cell_type": "markdown",
   "id": "ce7bfbcf-25fb-4ffc-9394-fa93d86fad43",
   "metadata": {},
   "source": [
    "# Taylor Expansion Using DL"
   ]
  },
  {
   "cell_type": "markdown",
   "id": "1e0eaa84-0dc4-4d47-a6ec-27979fed3e2c",
   "metadata": {},
   "source": [
    "## Training the Basic LSTM"
   ]
  },
  {
   "cell_type": "code",
   "execution_count": 1,
   "id": "e2cf8565-f860-49a9-91ba-b86207edc23d",
   "metadata": {},
   "outputs": [
    {
     "name": "stdout",
     "output_type": "stream",
     "text": [
      "Starting LSTM model training\n",
      "Using device: cuda\n",
      "Generating dataset of functions with Taylor expansions...\n",
      "Generated 100 valid functions\n",
      "Generated 200 valid functions\n",
      "Generated 300 valid functions\n",
      "Generated 400 valid functions\n",
      "Generated 500 valid functions\n",
      "Generated 600 valid functions\n",
      "Generated 700 valid functions\n",
      "Generated 800 valid functions\n",
      "Generated 900 valid functions\n",
      "Generated 1000 valid functions\n",
      "Generated 1100 valid functions\n",
      "Generated 1200 valid functions\n",
      "Generated 1300 valid functions\n",
      "Generated 1400 valid functions\n",
      "Generated 1500 valid functions\n",
      "Generated 1600 valid functions\n",
      "Generated 1700 valid functions\n",
      "Generated 1800 valid functions\n",
      "Generated 1900 valid functions\n",
      "Generated 2000 valid functions\n",
      "Generated 2100 valid functions\n",
      "Generated 2200 valid functions\n",
      "Generated 2300 valid functions\n",
      "Generated 2400 valid functions\n",
      "Generated 2500 valid functions\n",
      "Generated 2600 valid functions\n",
      "Generated 2700 valid functions\n",
      "Generated 2800 valid functions\n",
      "Generated 2900 valid functions\n",
      "Generated 3000 valid functions\n",
      "Generated 3100 valid functions\n",
      "Generated 3200 valid functions\n",
      "Generated 3300 valid functions\n",
      "Generated 3400 valid functions\n",
      "Generated 3500 valid functions\n",
      "Generated 3600 valid functions\n",
      "Generated 3700 valid functions\n",
      "Generated 3800 valid functions\n",
      "Generated 3900 valid functions\n",
      "Generated 4000 valid functions\n",
      "Generated 4100 valid functions\n",
      "Generated 4200 valid functions\n",
      "Generated 4300 valid functions\n",
      "Generated 4400 valid functions\n",
      "Generated 4500 valid functions\n",
      "Generated 4600 valid functions\n",
      "Generated 4700 valid functions\n",
      "Generated 4800 valid functions\n",
      "Generated 4900 valid functions\n",
      "Generated 5000 valid functions\n",
      "Generated 5100 valid functions\n",
      "Generated 5200 valid functions\n",
      "Generated 5300 valid functions\n",
      "Generated 5400 valid functions\n",
      "Generated 5500 valid functions\n",
      "Generated 5600 valid functions\n",
      "Generated 5700 valid functions\n",
      "Generated 5800 valid functions\n",
      "Generated 5900 valid functions\n",
      "Generated 6000 valid functions\n",
      "Generated 6100 valid functions\n",
      "Generated 6200 valid functions\n",
      "Generated 6300 valid functions\n",
      "Generated 6400 valid functions\n",
      "Generated 6500 valid functions\n",
      "Generated 6600 valid functions\n",
      "Generated 6700 valid functions\n",
      "Generated 6800 valid functions\n",
      "Generated 6900 valid functions\n",
      "Generated 7000 valid functions\n",
      "Generated 7100 valid functions\n",
      "Generated 7200 valid functions\n",
      "Generated 7300 valid functions\n",
      "Generated 7400 valid functions\n",
      "Generated 7500 valid functions\n",
      "Generated 7600 valid functions\n",
      "Generated 7700 valid functions\n",
      "Generated 7800 valid functions\n",
      "Generated 7900 valid functions\n",
      "Generated 8000 valid functions\n",
      "Generated 8100 valid functions\n",
      "Generated 8200 valid functions\n",
      "Generated 8300 valid functions\n",
      "Generated 8400 valid functions\n",
      "Generated 8500 valid functions\n",
      "Generated 8600 valid functions\n",
      "Generated 8700 valid functions\n",
      "Generated 8800 valid functions\n",
      "Generated 8900 valid functions\n",
      "Generated 9000 valid functions\n",
      "Generated 9100 valid functions\n",
      "Generated 9200 valid functions\n",
      "Generated 9300 valid functions\n",
      "Generated 9400 valid functions\n",
      "Generated 9500 valid functions\n",
      "Generated 9600 valid functions\n",
      "Generated 9700 valid functions\n",
      "Generated 9800 valid functions\n",
      "Generated 9900 valid functions\n",
      "Generated 10000 valid functions\n",
      "Dataset generation complete. Generated 10000 functions.\n",
      "Dataset saved to data/taylor_dataset.json\n",
      "Original dataset size: 10000\n",
      "Usable size (multiple of batch_size 32): 9984\n",
      "Processing data...\n",
      "Building vocabulary...\n",
      "Vocabulary size: 227\n",
      "Original dataset size: 9984\n",
      "Usable size (multiple of batch_size 32): 9984\n",
      "Data processing complete. Train size: 6988, Val size: 1498\n",
      "Test size: 1498\n",
      "Starting LSTM model training for 30 epochs...\n"
     ]
    },
    {
     "name": "stderr",
     "output_type": "stream",
     "text": [
      "Training LSTM: 100%|██████████████████████████| 218/218 [00:11<00:00, 18.86it/s]\n",
      "Evaluating LSTM: 100%|██████████████████████████| 46/46 [00:00<00:00, 81.95it/s]\n"
     ]
    },
    {
     "name": "stdout",
     "output_type": "stream",
     "text": [
      "Epoch: 1/30\n",
      "Train Loss: 1.3029\n",
      "Val Loss: 0.6767\n",
      "Saved best model.\n"
     ]
    },
    {
     "name": "stderr",
     "output_type": "stream",
     "text": [
      "Training LSTM: 100%|██████████████████████████| 218/218 [00:10<00:00, 20.07it/s]\n",
      "Evaluating LSTM: 100%|██████████████████████████| 46/46 [00:00<00:00, 82.65it/s]\n"
     ]
    },
    {
     "name": "stdout",
     "output_type": "stream",
     "text": [
      "Epoch: 2/30\n",
      "Train Loss: 0.5636\n",
      "Val Loss: 0.4744\n",
      "Saved best model.\n"
     ]
    },
    {
     "name": "stderr",
     "output_type": "stream",
     "text": [
      "Training LSTM: 100%|██████████████████████████| 218/218 [00:10<00:00, 19.85it/s]\n",
      "Evaluating LSTM: 100%|██████████████████████████| 46/46 [00:00<00:00, 82.05it/s]\n"
     ]
    },
    {
     "name": "stdout",
     "output_type": "stream",
     "text": [
      "Epoch: 3/30\n",
      "Train Loss: 0.4056\n",
      "Val Loss: 0.3501\n",
      "Saved best model.\n"
     ]
    },
    {
     "name": "stderr",
     "output_type": "stream",
     "text": [
      "Training LSTM: 100%|██████████████████████████| 218/218 [00:11<00:00, 19.82it/s]\n",
      "Evaluating LSTM: 100%|██████████████████████████| 46/46 [00:00<00:00, 82.57it/s]\n"
     ]
    },
    {
     "name": "stdout",
     "output_type": "stream",
     "text": [
      "Epoch: 4/30\n",
      "Train Loss: 0.3010\n",
      "Val Loss: 0.2718\n",
      "Saved best model.\n"
     ]
    },
    {
     "name": "stderr",
     "output_type": "stream",
     "text": [
      "Training LSTM: 100%|██████████████████████████| 218/218 [00:11<00:00, 19.80it/s]\n",
      "Evaluating LSTM: 100%|██████████████████████████| 46/46 [00:00<00:00, 83.73it/s]\n"
     ]
    },
    {
     "name": "stdout",
     "output_type": "stream",
     "text": [
      "Epoch: 5/30\n",
      "Train Loss: 0.2366\n",
      "Val Loss: 0.2304\n",
      "Saved best model.\n"
     ]
    },
    {
     "name": "stderr",
     "output_type": "stream",
     "text": [
      "Training LSTM: 100%|██████████████████████████| 218/218 [00:10<00:00, 19.84it/s]\n",
      "Evaluating LSTM: 100%|██████████████████████████| 46/46 [00:00<00:00, 82.35it/s]\n"
     ]
    },
    {
     "name": "stdout",
     "output_type": "stream",
     "text": [
      "Epoch: 6/30\n",
      "Train Loss: 0.1991\n",
      "Val Loss: 0.2075\n",
      "Saved best model.\n"
     ]
    },
    {
     "name": "stderr",
     "output_type": "stream",
     "text": [
      "Training LSTM: 100%|██████████████████████████| 218/218 [00:10<00:00, 19.95it/s]\n",
      "Evaluating LSTM: 100%|██████████████████████████| 46/46 [00:00<00:00, 81.57it/s]\n"
     ]
    },
    {
     "name": "stdout",
     "output_type": "stream",
     "text": [
      "Epoch: 7/30\n",
      "Train Loss: 0.1757\n",
      "Val Loss: 0.1844\n",
      "Saved best model.\n"
     ]
    },
    {
     "name": "stderr",
     "output_type": "stream",
     "text": [
      "Training LSTM: 100%|██████████████████████████| 218/218 [00:10<00:00, 19.84it/s]\n",
      "Evaluating LSTM: 100%|██████████████████████████| 46/46 [00:00<00:00, 80.46it/s]\n"
     ]
    },
    {
     "name": "stdout",
     "output_type": "stream",
     "text": [
      "Epoch: 8/30\n",
      "Train Loss: 0.1584\n",
      "Val Loss: 0.1719\n",
      "Saved best model.\n"
     ]
    },
    {
     "name": "stderr",
     "output_type": "stream",
     "text": [
      "Training LSTM: 100%|██████████████████████████| 218/218 [00:10<00:00, 19.95it/s]\n",
      "Evaluating LSTM: 100%|██████████████████████████| 46/46 [00:00<00:00, 81.75it/s]\n"
     ]
    },
    {
     "name": "stdout",
     "output_type": "stream",
     "text": [
      "Epoch: 9/30\n",
      "Train Loss: 0.1448\n",
      "Val Loss: 0.1654\n",
      "Saved best model.\n"
     ]
    },
    {
     "name": "stderr",
     "output_type": "stream",
     "text": [
      "Training LSTM: 100%|██████████████████████████| 218/218 [00:10<00:00, 19.86it/s]\n",
      "Evaluating LSTM: 100%|██████████████████████████| 46/46 [00:00<00:00, 82.34it/s]\n"
     ]
    },
    {
     "name": "stdout",
     "output_type": "stream",
     "text": [
      "Epoch: 10/30\n",
      "Train Loss: 0.1323\n",
      "Val Loss: 0.1591\n",
      "Saved best model.\n"
     ]
    },
    {
     "name": "stderr",
     "output_type": "stream",
     "text": [
      "Training LSTM: 100%|██████████████████████████| 218/218 [00:10<00:00, 19.99it/s]\n",
      "Evaluating LSTM: 100%|██████████████████████████| 46/46 [00:00<00:00, 82.83it/s]\n"
     ]
    },
    {
     "name": "stdout",
     "output_type": "stream",
     "text": [
      "Epoch: 11/30\n",
      "Train Loss: 0.1235\n",
      "Val Loss: 0.1551\n",
      "Saved best model.\n"
     ]
    },
    {
     "name": "stderr",
     "output_type": "stream",
     "text": [
      "Training LSTM: 100%|██████████████████████████| 218/218 [00:10<00:00, 19.82it/s]\n",
      "Evaluating LSTM: 100%|██████████████████████████| 46/46 [00:00<00:00, 80.42it/s]\n"
     ]
    },
    {
     "name": "stdout",
     "output_type": "stream",
     "text": [
      "Epoch: 12/30\n",
      "Train Loss: 0.1148\n",
      "Val Loss: 0.1470\n",
      "Saved best model.\n"
     ]
    },
    {
     "name": "stderr",
     "output_type": "stream",
     "text": [
      "Training LSTM: 100%|██████████████████████████| 218/218 [00:10<00:00, 19.84it/s]\n",
      "Evaluating LSTM: 100%|██████████████████████████| 46/46 [00:00<00:00, 79.63it/s]\n"
     ]
    },
    {
     "name": "stdout",
     "output_type": "stream",
     "text": [
      "Epoch: 13/30\n",
      "Train Loss: 0.1069\n",
      "Val Loss: 0.1452\n",
      "Saved best model.\n"
     ]
    },
    {
     "name": "stderr",
     "output_type": "stream",
     "text": [
      "Training LSTM: 100%|██████████████████████████| 218/218 [00:10<00:00, 19.87it/s]\n",
      "Evaluating LSTM: 100%|██████████████████████████| 46/46 [00:00<00:00, 80.21it/s]\n"
     ]
    },
    {
     "name": "stdout",
     "output_type": "stream",
     "text": [
      "Epoch: 14/30\n",
      "Train Loss: 0.1000\n",
      "Val Loss: 0.1435\n",
      "Saved best model.\n"
     ]
    },
    {
     "name": "stderr",
     "output_type": "stream",
     "text": [
      "Training LSTM: 100%|██████████████████████████| 218/218 [00:11<00:00, 19.77it/s]\n",
      "Evaluating LSTM: 100%|██████████████████████████| 46/46 [00:00<00:00, 81.46it/s]\n"
     ]
    },
    {
     "name": "stdout",
     "output_type": "stream",
     "text": [
      "Epoch: 15/30\n",
      "Train Loss: 0.0933\n",
      "Val Loss: 0.1415\n",
      "Saved best model.\n"
     ]
    },
    {
     "name": "stderr",
     "output_type": "stream",
     "text": [
      "Training LSTM: 100%|██████████████████████████| 218/218 [00:10<00:00, 19.85it/s]\n",
      "Evaluating LSTM: 100%|██████████████████████████| 46/46 [00:00<00:00, 81.36it/s]\n"
     ]
    },
    {
     "name": "stdout",
     "output_type": "stream",
     "text": [
      "Epoch: 16/30\n",
      "Train Loss: 0.0889\n",
      "Val Loss: 0.1397\n",
      "Saved best model.\n"
     ]
    },
    {
     "name": "stderr",
     "output_type": "stream",
     "text": [
      "Training LSTM: 100%|██████████████████████████| 218/218 [00:10<00:00, 19.92it/s]\n",
      "Evaluating LSTM: 100%|██████████████████████████| 46/46 [00:00<00:00, 82.19it/s]\n"
     ]
    },
    {
     "name": "stdout",
     "output_type": "stream",
     "text": [
      "Epoch: 17/30\n",
      "Train Loss: 0.0816\n",
      "Val Loss: 0.1399\n"
     ]
    },
    {
     "name": "stderr",
     "output_type": "stream",
     "text": [
      "Training LSTM: 100%|██████████████████████████| 218/218 [00:10<00:00, 20.24it/s]\n",
      "Evaluating LSTM: 100%|██████████████████████████| 46/46 [00:00<00:00, 83.34it/s]\n"
     ]
    },
    {
     "name": "stdout",
     "output_type": "stream",
     "text": [
      "Epoch: 18/30\n",
      "Train Loss: 0.0762\n",
      "Val Loss: 0.1387\n",
      "Saved best model.\n"
     ]
    },
    {
     "name": "stderr",
     "output_type": "stream",
     "text": [
      "Training LSTM: 100%|██████████████████████████| 218/218 [00:10<00:00, 19.87it/s]\n",
      "Evaluating LSTM: 100%|██████████████████████████| 46/46 [00:00<00:00, 81.43it/s]\n"
     ]
    },
    {
     "name": "stdout",
     "output_type": "stream",
     "text": [
      "Epoch: 19/30\n",
      "Train Loss: 0.0726\n",
      "Val Loss: 0.1399\n"
     ]
    },
    {
     "name": "stderr",
     "output_type": "stream",
     "text": [
      "Training LSTM: 100%|██████████████████████████| 218/218 [00:10<00:00, 20.00it/s]\n",
      "Evaluating LSTM: 100%|██████████████████████████| 46/46 [00:00<00:00, 82.28it/s]\n"
     ]
    },
    {
     "name": "stdout",
     "output_type": "stream",
     "text": [
      "Epoch: 20/30\n",
      "Train Loss: 0.0667\n",
      "Val Loss: 0.1329\n",
      "Saved best model.\n"
     ]
    },
    {
     "name": "stderr",
     "output_type": "stream",
     "text": [
      "Training LSTM: 100%|██████████████████████████| 218/218 [00:10<00:00, 19.86it/s]\n",
      "Evaluating LSTM: 100%|██████████████████████████| 46/46 [00:00<00:00, 83.30it/s]\n"
     ]
    },
    {
     "name": "stdout",
     "output_type": "stream",
     "text": [
      "Epoch: 21/30\n",
      "Train Loss: 0.0624\n",
      "Val Loss: 0.1319\n",
      "Saved best model.\n"
     ]
    },
    {
     "name": "stderr",
     "output_type": "stream",
     "text": [
      "Training LSTM: 100%|██████████████████████████| 218/218 [00:11<00:00, 19.74it/s]\n",
      "Evaluating LSTM: 100%|██████████████████████████| 46/46 [00:00<00:00, 82.57it/s]\n"
     ]
    },
    {
     "name": "stdout",
     "output_type": "stream",
     "text": [
      "Epoch: 22/30\n",
      "Train Loss: 0.0591\n",
      "Val Loss: 0.1357\n"
     ]
    },
    {
     "name": "stderr",
     "output_type": "stream",
     "text": [
      "Training LSTM: 100%|██████████████████████████| 218/218 [00:10<00:00, 20.00it/s]\n",
      "Evaluating LSTM: 100%|██████████████████████████| 46/46 [00:00<00:00, 80.70it/s]\n"
     ]
    },
    {
     "name": "stdout",
     "output_type": "stream",
     "text": [
      "Epoch: 23/30\n",
      "Train Loss: 0.0548\n",
      "Val Loss: 0.1380\n"
     ]
    },
    {
     "name": "stderr",
     "output_type": "stream",
     "text": [
      "Training LSTM: 100%|██████████████████████████| 218/218 [00:10<00:00, 19.85it/s]\n",
      "Evaluating LSTM: 100%|██████████████████████████| 46/46 [00:00<00:00, 82.71it/s]\n"
     ]
    },
    {
     "name": "stdout",
     "output_type": "stream",
     "text": [
      "Epoch: 24/30\n",
      "Train Loss: 0.0512\n",
      "Val Loss: 0.1359\n"
     ]
    },
    {
     "name": "stderr",
     "output_type": "stream",
     "text": [
      "Training LSTM: 100%|██████████████████████████| 218/218 [00:10<00:00, 19.89it/s]\n",
      "Evaluating LSTM: 100%|██████████████████████████| 46/46 [00:00<00:00, 81.42it/s]\n"
     ]
    },
    {
     "name": "stdout",
     "output_type": "stream",
     "text": [
      "Epoch: 25/30\n",
      "Train Loss: 0.0469\n",
      "Val Loss: 0.1404\n"
     ]
    },
    {
     "name": "stderr",
     "output_type": "stream",
     "text": [
      "Training LSTM: 100%|██████████████████████████| 218/218 [00:10<00:00, 20.18it/s]\n",
      "Evaluating LSTM: 100%|██████████████████████████| 46/46 [00:00<00:00, 82.57it/s]\n"
     ]
    },
    {
     "name": "stdout",
     "output_type": "stream",
     "text": [
      "Epoch: 26/30\n",
      "Train Loss: 0.0436\n",
      "Val Loss: 0.1398\n"
     ]
    },
    {
     "name": "stderr",
     "output_type": "stream",
     "text": [
      "Training LSTM: 100%|██████████████████████████| 218/218 [00:10<00:00, 20.05it/s]\n",
      "Evaluating LSTM: 100%|██████████████████████████| 46/46 [00:00<00:00, 80.70it/s]\n"
     ]
    },
    {
     "name": "stdout",
     "output_type": "stream",
     "text": [
      "Epoch: 27/30\n",
      "Train Loss: 0.0404\n",
      "Val Loss: 0.1413\n"
     ]
    },
    {
     "name": "stderr",
     "output_type": "stream",
     "text": [
      "Training LSTM: 100%|██████████████████████████| 218/218 [00:10<00:00, 20.14it/s]\n",
      "Evaluating LSTM: 100%|██████████████████████████| 46/46 [00:00<00:00, 81.56it/s]\n"
     ]
    },
    {
     "name": "stdout",
     "output_type": "stream",
     "text": [
      "Epoch: 28/30\n",
      "Train Loss: 0.0377\n",
      "Val Loss: 0.1416\n"
     ]
    },
    {
     "name": "stderr",
     "output_type": "stream",
     "text": [
      "Training LSTM: 100%|██████████████████████████| 218/218 [00:10<00:00, 19.90it/s]\n",
      "Evaluating LSTM: 100%|██████████████████████████| 46/46 [00:00<00:00, 80.17it/s]\n"
     ]
    },
    {
     "name": "stdout",
     "output_type": "stream",
     "text": [
      "Epoch: 29/30\n",
      "Train Loss: 0.0355\n",
      "Val Loss: 0.1433\n"
     ]
    },
    {
     "name": "stderr",
     "output_type": "stream",
     "text": [
      "Training LSTM: 100%|██████████████████████████| 218/218 [00:10<00:00, 19.96it/s]\n",
      "Evaluating LSTM: 100%|██████████████████████████| 46/46 [00:00<00:00, 81.08it/s]\n"
     ]
    },
    {
     "name": "stdout",
     "output_type": "stream",
     "text": [
      "Epoch: 30/30\n",
      "Train Loss: 0.0347\n",
      "Val Loss: 0.1454\n",
      "Loss plot saved to results/lstm_losses.png\n",
      "Training complete.\n",
      "LSTM model training completed!\n"
     ]
    }
   ],
   "source": [
    "%run scripts/train_lstm.py"
   ]
  },
  {
   "cell_type": "markdown",
   "id": "99c30098-675d-44da-93b8-4809097a2678",
   "metadata": {},
   "source": [
    "## Training the Improved LSTM Version"
   ]
  },
  {
   "cell_type": "code",
   "execution_count": 2,
   "id": "0066525a-3dba-49a6-8099-d3630ea612f0",
   "metadata": {},
   "outputs": [
    {
     "name": "stdout",
     "output_type": "stream",
     "text": [
      "Starting Improved LSTM model training\n",
      "Using device: cuda\n",
      "Loading dataset from data/taylor_dataset.json\n",
      "Original dataset size: 10000\n",
      "Usable size (multiple of batch_size 32): 9984\n",
      "Processing data...\n",
      "Building vocabulary...\n",
      "Vocabulary size: 227\n",
      "Original dataset size: 9984\n",
      "Usable size (multiple of batch_size 32): 9984\n",
      "Data processing complete. Train size: 6988, Val size: 1498\n",
      "Test size: 1498\n",
      "Starting Improved LSTM model training for 30 epochs...\n"
     ]
    },
    {
     "name": "stderr",
     "output_type": "stream",
     "text": [
      "Training Improved LSTM: 100%|█████████████████| 218/218 [00:21<00:00, 10.17it/s]\n",
      "Evaluating Improved LSTM: 100%|█████████████████| 46/46 [00:01<00:00, 41.31it/s]\n"
     ]
    },
    {
     "name": "stdout",
     "output_type": "stream",
     "text": [
      "Epoch: 1/30\n",
      "Train Loss: 1.1474\n",
      "Val Loss: 0.4985\n",
      "Saved best model.\n"
     ]
    },
    {
     "name": "stderr",
     "output_type": "stream",
     "text": [
      "Training Improved LSTM: 100%|█████████████████| 218/218 [00:21<00:00, 10.27it/s]\n",
      "Evaluating Improved LSTM: 100%|█████████████████| 46/46 [00:01<00:00, 42.27it/s]\n"
     ]
    },
    {
     "name": "stdout",
     "output_type": "stream",
     "text": [
      "Epoch: 2/30\n",
      "Train Loss: 0.3402\n",
      "Val Loss: 0.2599\n",
      "Saved best model.\n"
     ]
    },
    {
     "name": "stderr",
     "output_type": "stream",
     "text": [
      "Training Improved LSTM: 100%|█████████████████| 218/218 [00:21<00:00, 10.23it/s]\n",
      "Evaluating Improved LSTM: 100%|█████████████████| 46/46 [00:01<00:00, 41.69it/s]\n"
     ]
    },
    {
     "name": "stdout",
     "output_type": "stream",
     "text": [
      "Epoch: 3/30\n",
      "Train Loss: 0.2159\n",
      "Val Loss: 0.2058\n",
      "Saved best model.\n"
     ]
    },
    {
     "name": "stderr",
     "output_type": "stream",
     "text": [
      "Training Improved LSTM: 100%|█████████████████| 218/218 [00:21<00:00, 10.21it/s]\n",
      "Evaluating Improved LSTM: 100%|█████████████████| 46/46 [00:01<00:00, 41.60it/s]\n"
     ]
    },
    {
     "name": "stdout",
     "output_type": "stream",
     "text": [
      "Epoch: 4/30\n",
      "Train Loss: 0.1673\n",
      "Val Loss: 0.1701\n",
      "Saved best model.\n"
     ]
    },
    {
     "name": "stderr",
     "output_type": "stream",
     "text": [
      "Training Improved LSTM: 100%|█████████████████| 218/218 [00:21<00:00, 10.28it/s]\n",
      "Evaluating Improved LSTM: 100%|█████████████████| 46/46 [00:01<00:00, 42.37it/s]\n"
     ]
    },
    {
     "name": "stdout",
     "output_type": "stream",
     "text": [
      "Epoch: 5/30\n",
      "Train Loss: 0.1370\n",
      "Val Loss: 0.1527\n",
      "Saved best model.\n"
     ]
    },
    {
     "name": "stderr",
     "output_type": "stream",
     "text": [
      "Training Improved LSTM: 100%|█████████████████| 218/218 [00:21<00:00, 10.24it/s]\n",
      "Evaluating Improved LSTM: 100%|█████████████████| 46/46 [00:01<00:00, 42.75it/s]\n"
     ]
    },
    {
     "name": "stdout",
     "output_type": "stream",
     "text": [
      "Epoch: 6/30\n",
      "Train Loss: 0.1134\n",
      "Val Loss: 0.1334\n",
      "Saved best model.\n"
     ]
    },
    {
     "name": "stderr",
     "output_type": "stream",
     "text": [
      "Training Improved LSTM: 100%|█████████████████| 218/218 [00:21<00:00, 10.38it/s]\n",
      "Evaluating Improved LSTM: 100%|█████████████████| 46/46 [00:01<00:00, 42.61it/s]\n"
     ]
    },
    {
     "name": "stdout",
     "output_type": "stream",
     "text": [
      "Epoch: 7/30\n",
      "Train Loss: 0.0961\n",
      "Val Loss: 0.1229\n",
      "Saved best model.\n"
     ]
    },
    {
     "name": "stderr",
     "output_type": "stream",
     "text": [
      "Training Improved LSTM: 100%|█████████████████| 218/218 [00:21<00:00, 10.35it/s]\n",
      "Evaluating Improved LSTM: 100%|█████████████████| 46/46 [00:01<00:00, 42.66it/s]\n"
     ]
    },
    {
     "name": "stdout",
     "output_type": "stream",
     "text": [
      "Epoch: 8/30\n",
      "Train Loss: 0.0849\n",
      "Val Loss: 0.1144\n",
      "Saved best model.\n"
     ]
    },
    {
     "name": "stderr",
     "output_type": "stream",
     "text": [
      "Training Improved LSTM: 100%|█████████████████| 218/218 [00:21<00:00, 10.27it/s]\n",
      "Evaluating Improved LSTM: 100%|█████████████████| 46/46 [00:01<00:00, 41.58it/s]\n"
     ]
    },
    {
     "name": "stdout",
     "output_type": "stream",
     "text": [
      "Epoch: 9/30\n",
      "Train Loss: 0.0745\n",
      "Val Loss: 0.1132\n",
      "Saved best model.\n"
     ]
    },
    {
     "name": "stderr",
     "output_type": "stream",
     "text": [
      "Training Improved LSTM: 100%|█████████████████| 218/218 [00:21<00:00, 10.29it/s]\n",
      "Evaluating Improved LSTM: 100%|█████████████████| 46/46 [00:01<00:00, 41.61it/s]\n"
     ]
    },
    {
     "name": "stdout",
     "output_type": "stream",
     "text": [
      "Epoch: 10/30\n",
      "Train Loss: 0.0668\n",
      "Val Loss: 0.1097\n",
      "Saved best model.\n"
     ]
    },
    {
     "name": "stderr",
     "output_type": "stream",
     "text": [
      "Training Improved LSTM: 100%|█████████████████| 218/218 [00:21<00:00, 10.32it/s]\n",
      "Evaluating Improved LSTM: 100%|█████████████████| 46/46 [00:01<00:00, 42.61it/s]\n"
     ]
    },
    {
     "name": "stdout",
     "output_type": "stream",
     "text": [
      "Epoch: 11/30\n",
      "Train Loss: 0.0580\n",
      "Val Loss: 0.1082\n",
      "Saved best model.\n"
     ]
    },
    {
     "name": "stderr",
     "output_type": "stream",
     "text": [
      "Training Improved LSTM: 100%|█████████████████| 218/218 [00:21<00:00, 10.28it/s]\n",
      "Evaluating Improved LSTM: 100%|█████████████████| 46/46 [00:01<00:00, 42.33it/s]\n"
     ]
    },
    {
     "name": "stdout",
     "output_type": "stream",
     "text": [
      "Epoch: 12/30\n",
      "Train Loss: 0.0534\n",
      "Val Loss: 0.1086\n"
     ]
    },
    {
     "name": "stderr",
     "output_type": "stream",
     "text": [
      "Training Improved LSTM: 100%|█████████████████| 218/218 [00:21<00:00, 10.27it/s]\n",
      "Evaluating Improved LSTM: 100%|█████████████████| 46/46 [00:01<00:00, 42.09it/s]\n"
     ]
    },
    {
     "name": "stdout",
     "output_type": "stream",
     "text": [
      "Epoch: 13/30\n",
      "Train Loss: 0.0500\n",
      "Val Loss: 0.1056\n",
      "Saved best model.\n"
     ]
    },
    {
     "name": "stderr",
     "output_type": "stream",
     "text": [
      "Training Improved LSTM: 100%|█████████████████| 218/218 [00:21<00:00, 10.25it/s]\n",
      "Evaluating Improved LSTM: 100%|█████████████████| 46/46 [00:01<00:00, 41.91it/s]\n"
     ]
    },
    {
     "name": "stdout",
     "output_type": "stream",
     "text": [
      "Epoch: 14/30\n",
      "Train Loss: 0.0430\n",
      "Val Loss: 0.1022\n",
      "Saved best model.\n"
     ]
    },
    {
     "name": "stderr",
     "output_type": "stream",
     "text": [
      "Training Improved LSTM: 100%|█████████████████| 218/218 [00:21<00:00, 10.25it/s]\n",
      "Evaluating Improved LSTM: 100%|█████████████████| 46/46 [00:01<00:00, 42.76it/s]\n"
     ]
    },
    {
     "name": "stdout",
     "output_type": "stream",
     "text": [
      "Epoch: 15/30\n",
      "Train Loss: 0.0379\n",
      "Val Loss: 0.1043\n"
     ]
    },
    {
     "name": "stderr",
     "output_type": "stream",
     "text": [
      "Training Improved LSTM: 100%|█████████████████| 218/218 [00:21<00:00, 10.32it/s]\n",
      "Evaluating Improved LSTM: 100%|█████████████████| 46/46 [00:01<00:00, 41.34it/s]\n"
     ]
    },
    {
     "name": "stdout",
     "output_type": "stream",
     "text": [
      "Epoch: 16/30\n",
      "Train Loss: 0.0354\n",
      "Val Loss: 0.1056\n"
     ]
    },
    {
     "name": "stderr",
     "output_type": "stream",
     "text": [
      "Training Improved LSTM: 100%|█████████████████| 218/218 [00:21<00:00, 10.24it/s]\n",
      "Evaluating Improved LSTM: 100%|█████████████████| 46/46 [00:01<00:00, 41.73it/s]\n"
     ]
    },
    {
     "name": "stdout",
     "output_type": "stream",
     "text": [
      "Epoch: 17/30\n",
      "Train Loss: 0.0312\n",
      "Val Loss: 0.1091\n"
     ]
    },
    {
     "name": "stderr",
     "output_type": "stream",
     "text": [
      "Training Improved LSTM: 100%|█████████████████| 218/218 [00:21<00:00, 10.36it/s]\n",
      "Evaluating Improved LSTM: 100%|█████████████████| 46/46 [00:01<00:00, 42.75it/s]\n"
     ]
    },
    {
     "name": "stdout",
     "output_type": "stream",
     "text": [
      "Epoch: 18/30\n",
      "Train Loss: 0.0313\n",
      "Val Loss: 0.1108\n"
     ]
    },
    {
     "name": "stderr",
     "output_type": "stream",
     "text": [
      "Training Improved LSTM: 100%|█████████████████| 218/218 [00:21<00:00, 10.33it/s]\n",
      "Evaluating Improved LSTM: 100%|█████████████████| 46/46 [00:01<00:00, 42.56it/s]\n"
     ]
    },
    {
     "name": "stdout",
     "output_type": "stream",
     "text": [
      "Epoch: 19/30\n",
      "Train Loss: 0.0270\n",
      "Val Loss: 0.1106\n"
     ]
    },
    {
     "name": "stderr",
     "output_type": "stream",
     "text": [
      "Training Improved LSTM: 100%|█████████████████| 218/218 [00:21<00:00, 10.22it/s]\n",
      "Evaluating Improved LSTM: 100%|█████████████████| 46/46 [00:01<00:00, 41.38it/s]\n"
     ]
    },
    {
     "name": "stdout",
     "output_type": "stream",
     "text": [
      "Epoch: 20/30\n",
      "Train Loss: 0.0262\n",
      "Val Loss: 0.1099\n"
     ]
    },
    {
     "name": "stderr",
     "output_type": "stream",
     "text": [
      "Training Improved LSTM: 100%|█████████████████| 218/218 [00:21<00:00, 10.16it/s]\n",
      "Evaluating Improved LSTM: 100%|█████████████████| 46/46 [00:01<00:00, 40.91it/s]\n"
     ]
    },
    {
     "name": "stdout",
     "output_type": "stream",
     "text": [
      "Epoch: 21/30\n",
      "Train Loss: 0.0237\n",
      "Val Loss: 0.1124\n"
     ]
    },
    {
     "name": "stderr",
     "output_type": "stream",
     "text": [
      "Training Improved LSTM: 100%|█████████████████| 218/218 [00:21<00:00, 10.22it/s]\n",
      "Evaluating Improved LSTM: 100%|█████████████████| 46/46 [00:01<00:00, 41.13it/s]\n"
     ]
    },
    {
     "name": "stdout",
     "output_type": "stream",
     "text": [
      "Epoch: 22/30\n",
      "Train Loss: 0.0218\n",
      "Val Loss: 0.1111\n"
     ]
    },
    {
     "name": "stderr",
     "output_type": "stream",
     "text": [
      "Training Improved LSTM: 100%|█████████████████| 218/218 [00:21<00:00, 10.23it/s]\n",
      "Evaluating Improved LSTM: 100%|█████████████████| 46/46 [00:01<00:00, 41.55it/s]\n"
     ]
    },
    {
     "name": "stdout",
     "output_type": "stream",
     "text": [
      "Epoch: 23/30\n",
      "Train Loss: 0.0203\n",
      "Val Loss: 0.1148\n"
     ]
    },
    {
     "name": "stderr",
     "output_type": "stream",
     "text": [
      "Training Improved LSTM: 100%|█████████████████| 218/218 [00:21<00:00, 10.26it/s]\n",
      "Evaluating Improved LSTM: 100%|█████████████████| 46/46 [00:01<00:00, 42.14it/s]\n"
     ]
    },
    {
     "name": "stdout",
     "output_type": "stream",
     "text": [
      "Epoch: 24/30\n",
      "Train Loss: 0.0187\n",
      "Val Loss: 0.1162\n"
     ]
    },
    {
     "name": "stderr",
     "output_type": "stream",
     "text": [
      "Training Improved LSTM: 100%|█████████████████| 218/218 [00:21<00:00, 10.20it/s]\n",
      "Evaluating Improved LSTM: 100%|█████████████████| 46/46 [00:01<00:00, 41.08it/s]\n"
     ]
    },
    {
     "name": "stdout",
     "output_type": "stream",
     "text": [
      "Epoch: 25/30\n",
      "Train Loss: 0.0164\n",
      "Val Loss: 0.1188\n"
     ]
    },
    {
     "name": "stderr",
     "output_type": "stream",
     "text": [
      "Training Improved LSTM: 100%|█████████████████| 218/218 [00:21<00:00, 10.29it/s]\n",
      "Evaluating Improved LSTM: 100%|█████████████████| 46/46 [00:01<00:00, 41.13it/s]\n"
     ]
    },
    {
     "name": "stdout",
     "output_type": "stream",
     "text": [
      "Epoch: 26/30\n",
      "Train Loss: 0.0160\n",
      "Val Loss: 0.1151\n"
     ]
    },
    {
     "name": "stderr",
     "output_type": "stream",
     "text": [
      "Training Improved LSTM: 100%|█████████████████| 218/218 [00:21<00:00, 10.27it/s]\n",
      "Evaluating Improved LSTM: 100%|█████████████████| 46/46 [00:01<00:00, 41.46it/s]\n"
     ]
    },
    {
     "name": "stdout",
     "output_type": "stream",
     "text": [
      "Epoch: 27/30\n",
      "Train Loss: 0.0155\n",
      "Val Loss: 0.1235\n"
     ]
    },
    {
     "name": "stderr",
     "output_type": "stream",
     "text": [
      "Training Improved LSTM: 100%|█████████████████| 218/218 [00:21<00:00, 10.20it/s]\n",
      "Evaluating Improved LSTM: 100%|█████████████████| 46/46 [00:01<00:00, 41.20it/s]\n"
     ]
    },
    {
     "name": "stdout",
     "output_type": "stream",
     "text": [
      "Epoch: 28/30\n",
      "Train Loss: 0.0151\n",
      "Val Loss: 0.1178\n"
     ]
    },
    {
     "name": "stderr",
     "output_type": "stream",
     "text": [
      "Training Improved LSTM: 100%|█████████████████| 218/218 [00:21<00:00, 10.25it/s]\n",
      "Evaluating Improved LSTM: 100%|█████████████████| 46/46 [00:01<00:00, 42.36it/s]\n"
     ]
    },
    {
     "name": "stdout",
     "output_type": "stream",
     "text": [
      "Epoch: 29/30\n",
      "Train Loss: 0.0149\n",
      "Val Loss: 0.1282\n"
     ]
    },
    {
     "name": "stderr",
     "output_type": "stream",
     "text": [
      "Training Improved LSTM: 100%|█████████████████| 218/218 [00:21<00:00, 10.23it/s]\n",
      "Evaluating Improved LSTM: 100%|█████████████████| 46/46 [00:01<00:00, 41.27it/s]\n"
     ]
    },
    {
     "name": "stdout",
     "output_type": "stream",
     "text": [
      "Epoch: 30/30\n",
      "Train Loss: 0.0140\n",
      "Val Loss: 0.1251\n",
      "Loss plot saved to results/improved_lstm_losses.png\n",
      "Training complete.\n",
      "Improved LSTM model training completed!\n"
     ]
    }
   ],
   "source": [
    "%run scripts/train_improved_lstm.py"
   ]
  },
  {
   "cell_type": "markdown",
   "id": "8afdfa8f-aa2e-4da0-a308-954d64c23163",
   "metadata": {},
   "source": [
    "## Training the Transformer"
   ]
  },
  {
   "cell_type": "code",
   "execution_count": 3,
   "id": "5e34ea40-9a4d-475c-822e-06e44d551b16",
   "metadata": {},
   "outputs": [
    {
     "name": "stdout",
     "output_type": "stream",
     "text": [
      "Starting Transformer model training\n",
      "Using device: cuda\n",
      "Loading dataset from data/taylor_dataset.json\n",
      "Original dataset size: 10000\n",
      "Usable size (multiple of batch_size 32): 9984\n",
      "Processing data...\n",
      "Building vocabulary...\n",
      "Vocabulary size: 227\n",
      "Original dataset size: 9984\n",
      "Usable size (multiple of batch_size 32): 9984\n",
      "Data processing complete. Train size: 6988, Val size: 1498\n",
      "Test size: 1498\n",
      "Starting Transformer model training for 30 epochs...\n",
      "Training with batch size: 32\n"
     ]
    },
    {
     "name": "stderr",
     "output_type": "stream",
     "text": [
      "Training Transformer:   0%|                             | 0/218 [00:00<?, ?it/s]/home/saurabhrai/miniconda3/envs/tensorflow/lib/python3.9/site-packages/torch/nn/functional.py:5193: UserWarning: Support for mismatched key_padding_mask and attn_mask is deprecated. Use same type for both instead.\n",
      "  warnings.warn(\n",
      "Training Transformer: 100%|███████████████████| 218/218 [00:05<00:00, 43.55it/s]\n",
      "Evaluating Transformer:   0%|                            | 0/46 [00:00<?, ?it/s]/home/saurabhrai/miniconda3/envs/tensorflow/lib/python3.9/site-packages/torch/nn/modules/transformer.py:409: UserWarning: The PyTorch API of nested tensors is in prototype stage and will change in the near future. (Triggered internally at ../aten/src/ATen/NestedTensorImpl.cpp:178.)\n",
      "  output = torch._nested_tensor_from_mask(output, src_key_padding_mask.logical_not(), mask_check=False)\n",
      "Evaluating Transformer: 100%|██████████████████| 46/46 [00:00<00:00, 106.01it/s]\n"
     ]
    },
    {
     "name": "stdout",
     "output_type": "stream",
     "text": [
      "Epoch: 1/30\n",
      "Train Loss: 1.0873\n",
      "Val Loss: 0.5199\n",
      "Saved best model.\n"
     ]
    },
    {
     "name": "stderr",
     "output_type": "stream",
     "text": [
      "Training Transformer: 100%|███████████████████| 218/218 [00:04<00:00, 44.58it/s]\n",
      "Evaluating Transformer: 100%|██████████████████| 46/46 [00:00<00:00, 118.99it/s]\n"
     ]
    },
    {
     "name": "stdout",
     "output_type": "stream",
     "text": [
      "Epoch: 2/30\n",
      "Train Loss: 0.5128\n",
      "Val Loss: 0.3734\n",
      "Saved best model.\n"
     ]
    },
    {
     "name": "stderr",
     "output_type": "stream",
     "text": [
      "Training Transformer: 100%|███████████████████| 218/218 [00:04<00:00, 44.54it/s]\n",
      "Evaluating Transformer: 100%|██████████████████| 46/46 [00:00<00:00, 115.19it/s]\n"
     ]
    },
    {
     "name": "stdout",
     "output_type": "stream",
     "text": [
      "Epoch: 3/30\n",
      "Train Loss: 0.4021\n",
      "Val Loss: 0.3117\n",
      "Saved best model.\n"
     ]
    },
    {
     "name": "stderr",
     "output_type": "stream",
     "text": [
      "Training Transformer: 100%|███████████████████| 218/218 [00:04<00:00, 43.94it/s]\n",
      "Evaluating Transformer: 100%|██████████████████| 46/46 [00:00<00:00, 117.47it/s]\n"
     ]
    },
    {
     "name": "stdout",
     "output_type": "stream",
     "text": [
      "Epoch: 4/30\n",
      "Train Loss: 0.3456\n",
      "Val Loss: 0.2965\n",
      "Saved best model.\n"
     ]
    },
    {
     "name": "stderr",
     "output_type": "stream",
     "text": [
      "Training Transformer: 100%|███████████████████| 218/218 [00:04<00:00, 44.41it/s]\n",
      "Evaluating Transformer: 100%|██████████████████| 46/46 [00:00<00:00, 118.54it/s]\n"
     ]
    },
    {
     "name": "stdout",
     "output_type": "stream",
     "text": [
      "Epoch: 5/30\n",
      "Train Loss: 0.3135\n",
      "Val Loss: 0.2824\n",
      "Saved best model.\n"
     ]
    },
    {
     "name": "stderr",
     "output_type": "stream",
     "text": [
      "Training Transformer: 100%|███████████████████| 218/218 [00:04<00:00, 44.01it/s]\n",
      "Evaluating Transformer: 100%|██████████████████| 46/46 [00:00<00:00, 113.99it/s]\n"
     ]
    },
    {
     "name": "stdout",
     "output_type": "stream",
     "text": [
      "Epoch: 6/30\n",
      "Train Loss: 0.2930\n",
      "Val Loss: 0.2657\n",
      "Saved best model.\n"
     ]
    },
    {
     "name": "stderr",
     "output_type": "stream",
     "text": [
      "Training Transformer: 100%|███████████████████| 218/218 [00:04<00:00, 44.41it/s]\n",
      "Evaluating Transformer: 100%|██████████████████| 46/46 [00:00<00:00, 118.60it/s]\n"
     ]
    },
    {
     "name": "stdout",
     "output_type": "stream",
     "text": [
      "Epoch: 7/30\n",
      "Train Loss: 0.2760\n",
      "Val Loss: 0.2532\n",
      "Saved best model.\n"
     ]
    },
    {
     "name": "stderr",
     "output_type": "stream",
     "text": [
      "Training Transformer: 100%|███████████████████| 218/218 [00:04<00:00, 44.18it/s]\n",
      "Evaluating Transformer: 100%|██████████████████| 46/46 [00:00<00:00, 117.60it/s]\n"
     ]
    },
    {
     "name": "stdout",
     "output_type": "stream",
     "text": [
      "Epoch: 8/30\n",
      "Train Loss: 0.2707\n",
      "Val Loss: 0.2556\n"
     ]
    },
    {
     "name": "stderr",
     "output_type": "stream",
     "text": [
      "Training Transformer: 100%|███████████████████| 218/218 [00:04<00:00, 44.20it/s]\n",
      "Evaluating Transformer: 100%|██████████████████| 46/46 [00:00<00:00, 114.65it/s]\n"
     ]
    },
    {
     "name": "stdout",
     "output_type": "stream",
     "text": [
      "Epoch: 9/30\n",
      "Train Loss: 0.2562\n",
      "Val Loss: 0.2399\n",
      "Saved best model.\n"
     ]
    },
    {
     "name": "stderr",
     "output_type": "stream",
     "text": [
      "Training Transformer: 100%|███████████████████| 218/218 [00:04<00:00, 44.02it/s]\n",
      "Evaluating Transformer: 100%|██████████████████| 46/46 [00:00<00:00, 113.26it/s]\n"
     ]
    },
    {
     "name": "stdout",
     "output_type": "stream",
     "text": [
      "Epoch: 10/30\n",
      "Train Loss: 0.2451\n",
      "Val Loss: 0.2423\n"
     ]
    },
    {
     "name": "stderr",
     "output_type": "stream",
     "text": [
      "Training Transformer: 100%|███████████████████| 218/218 [00:04<00:00, 43.95it/s]\n",
      "Evaluating Transformer: 100%|██████████████████| 46/46 [00:00<00:00, 117.03it/s]\n"
     ]
    },
    {
     "name": "stdout",
     "output_type": "stream",
     "text": [
      "Epoch: 11/30\n",
      "Train Loss: 0.2433\n",
      "Val Loss: 0.2233\n",
      "Saved best model.\n"
     ]
    },
    {
     "name": "stderr",
     "output_type": "stream",
     "text": [
      "Training Transformer: 100%|███████████████████| 218/218 [00:04<00:00, 44.04it/s]\n",
      "Evaluating Transformer: 100%|██████████████████| 46/46 [00:00<00:00, 115.81it/s]\n"
     ]
    },
    {
     "name": "stdout",
     "output_type": "stream",
     "text": [
      "Epoch: 12/30\n",
      "Train Loss: 0.2336\n",
      "Val Loss: 0.2204\n",
      "Saved best model.\n"
     ]
    },
    {
     "name": "stderr",
     "output_type": "stream",
     "text": [
      "Training Transformer: 100%|███████████████████| 218/218 [00:04<00:00, 44.49it/s]\n",
      "Evaluating Transformer: 100%|██████████████████| 46/46 [00:00<00:00, 117.76it/s]\n"
     ]
    },
    {
     "name": "stdout",
     "output_type": "stream",
     "text": [
      "Epoch: 13/30\n",
      "Train Loss: 0.2279\n",
      "Val Loss: 0.2106\n",
      "Saved best model.\n"
     ]
    },
    {
     "name": "stderr",
     "output_type": "stream",
     "text": [
      "Training Transformer: 100%|███████████████████| 218/218 [00:04<00:00, 44.75it/s]\n",
      "Evaluating Transformer: 100%|██████████████████| 46/46 [00:00<00:00, 115.56it/s]\n"
     ]
    },
    {
     "name": "stdout",
     "output_type": "stream",
     "text": [
      "Epoch: 14/30\n",
      "Train Loss: 0.2241\n",
      "Val Loss: 0.2207\n"
     ]
    },
    {
     "name": "stderr",
     "output_type": "stream",
     "text": [
      "Training Transformer: 100%|███████████████████| 218/218 [00:04<00:00, 44.09it/s]\n",
      "Evaluating Transformer: 100%|██████████████████| 46/46 [00:00<00:00, 116.27it/s]\n"
     ]
    },
    {
     "name": "stdout",
     "output_type": "stream",
     "text": [
      "Epoch: 15/30\n",
      "Train Loss: 0.2209\n",
      "Val Loss: 0.2127\n"
     ]
    },
    {
     "name": "stderr",
     "output_type": "stream",
     "text": [
      "Training Transformer: 100%|███████████████████| 218/218 [00:04<00:00, 43.94it/s]\n",
      "Evaluating Transformer: 100%|██████████████████| 46/46 [00:00<00:00, 116.94it/s]\n"
     ]
    },
    {
     "name": "stdout",
     "output_type": "stream",
     "text": [
      "Epoch: 16/30\n",
      "Train Loss: 0.2157\n",
      "Val Loss: 0.2128\n"
     ]
    },
    {
     "name": "stderr",
     "output_type": "stream",
     "text": [
      "Training Transformer: 100%|███████████████████| 218/218 [00:05<00:00, 43.59it/s]\n",
      "Evaluating Transformer: 100%|██████████████████| 46/46 [00:00<00:00, 117.24it/s]\n"
     ]
    },
    {
     "name": "stdout",
     "output_type": "stream",
     "text": [
      "Epoch: 17/30\n",
      "Train Loss: 0.2110\n",
      "Val Loss: 0.2108\n"
     ]
    },
    {
     "name": "stderr",
     "output_type": "stream",
     "text": [
      "Training Transformer: 100%|███████████████████| 218/218 [00:04<00:00, 44.28it/s]\n",
      "Evaluating Transformer: 100%|██████████████████| 46/46 [00:00<00:00, 116.40it/s]\n"
     ]
    },
    {
     "name": "stdout",
     "output_type": "stream",
     "text": [
      "Epoch: 18/30\n",
      "Train Loss: 0.2079\n",
      "Val Loss: 0.2052\n",
      "Saved best model.\n"
     ]
    },
    {
     "name": "stderr",
     "output_type": "stream",
     "text": [
      "Training Transformer: 100%|███████████████████| 218/218 [00:04<00:00, 44.08it/s]\n",
      "Evaluating Transformer: 100%|██████████████████| 46/46 [00:00<00:00, 116.71it/s]\n"
     ]
    },
    {
     "name": "stdout",
     "output_type": "stream",
     "text": [
      "Epoch: 19/30\n",
      "Train Loss: 0.2031\n",
      "Val Loss: 0.2020\n",
      "Saved best model.\n"
     ]
    },
    {
     "name": "stderr",
     "output_type": "stream",
     "text": [
      "Training Transformer: 100%|███████████████████| 218/218 [00:04<00:00, 43.95it/s]\n",
      "Evaluating Transformer: 100%|██████████████████| 46/46 [00:00<00:00, 116.49it/s]\n"
     ]
    },
    {
     "name": "stdout",
     "output_type": "stream",
     "text": [
      "Epoch: 20/30\n",
      "Train Loss: 0.2010\n",
      "Val Loss: 0.1957\n",
      "Saved best model.\n"
     ]
    },
    {
     "name": "stderr",
     "output_type": "stream",
     "text": [
      "Training Transformer: 100%|███████████████████| 218/218 [00:04<00:00, 43.90it/s]\n",
      "Evaluating Transformer: 100%|██████████████████| 46/46 [00:00<00:00, 116.41it/s]\n"
     ]
    },
    {
     "name": "stdout",
     "output_type": "stream",
     "text": [
      "Epoch: 21/30\n",
      "Train Loss: 0.1990\n",
      "Val Loss: 0.1969\n"
     ]
    },
    {
     "name": "stderr",
     "output_type": "stream",
     "text": [
      "Training Transformer: 100%|███████████████████| 218/218 [00:04<00:00, 44.04it/s]\n",
      "Evaluating Transformer: 100%|██████████████████| 46/46 [00:00<00:00, 119.21it/s]\n"
     ]
    },
    {
     "name": "stdout",
     "output_type": "stream",
     "text": [
      "Epoch: 22/30\n",
      "Train Loss: 0.1936\n",
      "Val Loss: 0.1966\n"
     ]
    },
    {
     "name": "stderr",
     "output_type": "stream",
     "text": [
      "Training Transformer: 100%|███████████████████| 218/218 [00:04<00:00, 43.86it/s]\n",
      "Evaluating Transformer: 100%|██████████████████| 46/46 [00:00<00:00, 116.32it/s]\n"
     ]
    },
    {
     "name": "stdout",
     "output_type": "stream",
     "text": [
      "Epoch: 23/30\n",
      "Train Loss: 0.1923\n",
      "Val Loss: 0.1951\n",
      "Saved best model.\n"
     ]
    },
    {
     "name": "stderr",
     "output_type": "stream",
     "text": [
      "Training Transformer: 100%|███████████████████| 218/218 [00:04<00:00, 44.14it/s]\n",
      "Evaluating Transformer: 100%|██████████████████| 46/46 [00:00<00:00, 118.85it/s]\n"
     ]
    },
    {
     "name": "stdout",
     "output_type": "stream",
     "text": [
      "Epoch: 24/30\n",
      "Train Loss: 0.1898\n",
      "Val Loss: 0.1994\n"
     ]
    },
    {
     "name": "stderr",
     "output_type": "stream",
     "text": [
      "Training Transformer: 100%|███████████████████| 218/218 [00:04<00:00, 44.24it/s]\n",
      "Evaluating Transformer: 100%|██████████████████| 46/46 [00:00<00:00, 118.97it/s]\n"
     ]
    },
    {
     "name": "stdout",
     "output_type": "stream",
     "text": [
      "Epoch: 25/30\n",
      "Train Loss: 0.1880\n",
      "Val Loss: 0.1870\n",
      "Saved best model.\n"
     ]
    },
    {
     "name": "stderr",
     "output_type": "stream",
     "text": [
      "Training Transformer: 100%|███████████████████| 218/218 [00:04<00:00, 44.32it/s]\n",
      "Evaluating Transformer: 100%|██████████████████| 46/46 [00:00<00:00, 117.05it/s]\n"
     ]
    },
    {
     "name": "stdout",
     "output_type": "stream",
     "text": [
      "Epoch: 26/30\n",
      "Train Loss: 0.1876\n",
      "Val Loss: 0.1912\n"
     ]
    },
    {
     "name": "stderr",
     "output_type": "stream",
     "text": [
      "Training Transformer: 100%|███████████████████| 218/218 [00:04<00:00, 45.14it/s]\n",
      "Evaluating Transformer: 100%|██████████████████| 46/46 [00:00<00:00, 119.47it/s]\n"
     ]
    },
    {
     "name": "stdout",
     "output_type": "stream",
     "text": [
      "Epoch: 27/30\n",
      "Train Loss: 0.1840\n",
      "Val Loss: 0.1875\n"
     ]
    },
    {
     "name": "stderr",
     "output_type": "stream",
     "text": [
      "Training Transformer: 100%|███████████████████| 218/218 [00:04<00:00, 44.18it/s]\n",
      "Evaluating Transformer: 100%|██████████████████| 46/46 [00:00<00:00, 119.63it/s]\n"
     ]
    },
    {
     "name": "stdout",
     "output_type": "stream",
     "text": [
      "Epoch: 28/30\n",
      "Train Loss: 0.1805\n",
      "Val Loss: 0.1876\n"
     ]
    },
    {
     "name": "stderr",
     "output_type": "stream",
     "text": [
      "Training Transformer: 100%|███████████████████| 218/218 [00:04<00:00, 44.78it/s]\n",
      "Evaluating Transformer: 100%|██████████████████| 46/46 [00:00<00:00, 119.48it/s]\n"
     ]
    },
    {
     "name": "stdout",
     "output_type": "stream",
     "text": [
      "Epoch: 29/30\n",
      "Train Loss: 0.1798\n",
      "Val Loss: 0.1960\n"
     ]
    },
    {
     "name": "stderr",
     "output_type": "stream",
     "text": [
      "Training Transformer: 100%|███████████████████| 218/218 [00:04<00:00, 44.31it/s]\n",
      "Evaluating Transformer: 100%|██████████████████| 46/46 [00:00<00:00, 117.71it/s]\n"
     ]
    },
    {
     "name": "stdout",
     "output_type": "stream",
     "text": [
      "Epoch: 30/30\n",
      "Train Loss: 0.1753\n",
      "Val Loss: 0.1870\n",
      "Loss plot saved to results/transformer_losses.png\n",
      "Training complete.\n",
      "Transformer model training completed!\n"
     ]
    }
   ],
   "source": [
    "%run scripts/train_transformer.py"
   ]
  },
  {
   "cell_type": "markdown",
   "id": "32de1db6-dbfb-4cb0-b451-efcd85ba4e37",
   "metadata": {},
   "source": [
    "## Comparing the models"
   ]
  },
  {
   "cell_type": "code",
   "execution_count": 4,
   "id": "98144dd5-5c33-44d7-b9c0-50bc4cffee08",
   "metadata": {},
   "outputs": [
    {
     "name": "stdout",
     "output_type": "stream",
     "text": [
      "Starting model comparison\n",
      "Using device: cuda\n",
      "Loading dataset from data/taylor_dataset.json\n",
      "Loading tokenizer from data/tokenizer.json\n",
      "Vocabulary size: 227\n",
      "Loading trained models from checkpoints...\n",
      "Processing data...\n",
      "Building vocabulary...\n"
     ]
    },
    {
     "name": "stderr",
     "output_type": "stream",
     "text": [
      "/home/saurabhrai/taylor_expansion_learning/taylor_expansion_learning/training/lstm_trainer.py:243: FutureWarning: You are using `torch.load` with `weights_only=False` (the current default value), which uses the default pickle module implicitly. It is possible to construct malicious pickle data which will execute arbitrary code during unpickling (See https://github.com/pytorch/pytorch/blob/main/SECURITY.md#untrusted-models for more details). In a future release, the default value for `weights_only` will be flipped to `True`. This limits the functions that could be executed during unpickling. Arbitrary objects will no longer be allowed to be loaded via this mode unless they are explicitly allowlisted by the user via `torch.serialization.add_safe_globals`. We recommend you start setting `weights_only=True` for any use case where you don't have full control of the loaded file. Please open an issue on GitHub for any issues related to this experimental feature.\n",
      "  checkpoint = torch.load(model_path)\n",
      "/home/saurabhrai/taylor_expansion_learning/taylor_expansion_learning/training/improved_lstm_trainer.py:298: FutureWarning: You are using `torch.load` with `weights_only=False` (the current default value), which uses the default pickle module implicitly. It is possible to construct malicious pickle data which will execute arbitrary code during unpickling (See https://github.com/pytorch/pytorch/blob/main/SECURITY.md#untrusted-models for more details). In a future release, the default value for `weights_only` will be flipped to `True`. This limits the functions that could be executed during unpickling. Arbitrary objects will no longer be allowed to be loaded via this mode unless they are explicitly allowlisted by the user via `torch.serialization.add_safe_globals`. We recommend you start setting `weights_only=True` for any use case where you don't have full control of the loaded file. Please open an issue on GitHub for any issues related to this experimental feature.\n",
      "  checkpoint = torch.load(model_path)\n",
      "/home/saurabhrai/taylor_expansion_learning/taylor_expansion_learning/training/transformer_trainer.py:289: FutureWarning: You are using `torch.load` with `weights_only=False` (the current default value), which uses the default pickle module implicitly. It is possible to construct malicious pickle data which will execute arbitrary code during unpickling (See https://github.com/pytorch/pytorch/blob/main/SECURITY.md#untrusted-models for more details). In a future release, the default value for `weights_only` will be flipped to `True`. This limits the functions that could be executed during unpickling. Arbitrary objects will no longer be allowed to be loaded via this mode unless they are explicitly allowlisted by the user via `torch.serialization.add_safe_globals`. We recommend you start setting `weights_only=True` for any use case where you don't have full control of the loaded file. Please open an issue on GitHub for any issues related to this experimental feature.\n",
      "  checkpoint = torch.load(model_path)\n"
     ]
    },
    {
     "name": "stdout",
     "output_type": "stream",
     "text": [
      "Vocabulary size: 227\n",
      "Original dataset size: 10000\n",
      "Usable size (multiple of batch_size 32): 9984\n",
      "Data processing complete. Train size: 6988, Val size: 1498\n",
      "Test size: 1498\n",
      "Using 1498 examples for model comparison\n",
      "Comparing models...\n"
     ]
    },
    {
     "name": "stderr",
     "output_type": "stream",
     "text": [
      "Evaluating Models: 100%|████████████████████| 1498/1498 [02:20<00:00, 10.65it/s]"
     ]
    },
    {
     "name": "stdout",
     "output_type": "stream",
     "text": [
      "Comparison results saved to results/model_comparison.json\n",
      "\n",
      "LSTM Model Metrics:\n",
      "exact_match_rate: 0.32910547396528705\n",
      "partial_match_rate: 0.7242990654205608\n",
      "token_accuracy: 0.006309427362651879\n",
      "exact_matches: 493\n",
      "partial_matches: 1085\n",
      "total_examples: 1498\n",
      "\n",
      "IMPROVED_LSTM Model Metrics:\n",
      "exact_match_rate: 0.6568758344459279\n",
      "partial_match_rate: 0.917890520694259\n",
      "token_accuracy: 0.013235158103543336\n",
      "exact_matches: 984\n",
      "partial_matches: 1375\n",
      "total_examples: 1498\n",
      "\n",
      "TRANSFORMER Model Metrics:\n",
      "exact_match_rate: 0.5287049399198932\n",
      "partial_match_rate: 0.8317757009345794\n",
      "token_accuracy: 0.03657695507011936\n",
      "exact_matches: 792\n",
      "partial_matches: 1246\n",
      "total_examples: 1498\n",
      "Detailed comparison plot saved to results/detailed_model_comparison.png\n",
      "Model comparison completed!\n",
      "\n",
      "Sample Predictions:\n",
      "\n",
      "Function: sin(x)\n",
      "True Expansion: -x**3/6 + x\n",
      "LSTM: * x * * 3 / 2 + 5 * x\n",
      "Improved LSTM: - x * * 3 / 6 + x\n",
      "Transformer: - x * * 3 / 6 + x\n",
      "\n",
      "Function: sqrt(x + 1)\n",
      "True Expansion: -5*x**4/128 + x**3/16 - x**2/8 + x/2 + 1\n",
      "LSTM: - 5 * x * * 4 / 128 + x * * 3 / 16 - x * * 2 / 8 + x / 2 + 1\n",
      "Improved LSTM: - 5 * x * * 4 / 128 + x * * 3 / 16 - x * * 2 / 8 + x / 2 + 1\n",
      "Transformer: - 5 * x * * 4 / 128 + x * * 3 / 16 - x * * 2 / 8 + x / 2 + 1\n",
      "\n",
      "Function: x\n",
      "True Expansion: x\n",
      "LSTM: x * * 2 / 2 + 1\n",
      "Improved LSTM: x * * 3 + x\n",
      "Transformer: x\n",
      "\n",
      "Function: log(3*x + 1)\n",
      "True Expansion: -81*x**4/4 + 9*x**3 - 9*x**2/2 + 3*x\n",
      "LSTM: - 81 * x * * 4 / 4 + 9 * x * * 3 - 9 * x * * 2 / 2 + 3 * x\n",
      "Improved LSTM: - 81 * x * * 4 / 4 + 9 * x * * 3 - 9 * x * * 2 / 2 + 3 * x\n",
      "Transformer: - 3 * x * * 4 / 4 + x * * 3 - 3 * x * * 2 / 2 + 3 * x\n",
      "\n",
      "Function: 4*(2*x**3 + 2*x**2 - 3*x)*cosh(x)\n",
      "True Expansion: 4*x**4 + 2*x**3 + 8*x**2 - 12*x\n",
      "LSTM: 32 * x * * 4 / 3 - 12 * x * * 2 - 8 * x\n",
      "Improved LSTM: - 11 * x * * 4 + 8 * x * * 3 + 8 * x * * 2 - 8 * x\n",
      "Transformer: - 11 * x * * 4 / 6 + x * * 3 + 8 * x * * 2 + 8 * x + 4\n"
     ]
    },
    {
     "name": "stderr",
     "output_type": "stream",
     "text": [
      "\n"
     ]
    }
   ],
   "source": [
    "%run scripts/compare_models.py"
   ]
  },
  {
   "cell_type": "markdown",
   "id": "52ec87d8-a94e-4c3d-867c-4b416048d1eb",
   "metadata": {},
   "source": [
    "## Comparison Plots"
   ]
  },
  {
   "cell_type": "code",
   "execution_count": 5,
   "id": "42f95a3d-da8b-44e1-89bc-3c59a6838dc4",
   "metadata": {},
   "outputs": [
    {
     "data": {
      "image/png": "[encoded data removed]",
      "text/plain": [
       "<IPython.core.display.Image object>"
      ]
     },
     "execution_count": 5,
     "metadata": {},
     "output_type": "execute_result"
    }
   ],
   "source": [
    "from IPython.display import Image\n",
    "Image(\"results/detailed_model_comparison.png\")"
   ]
  }
 ],
 "metadata": {
  "kernelspec": {
   "display_name": "Python 3 (ipykernel)",
   "language": "python",
   "name": "python3"
  },
  "language_info": {
   "codemirror_mode": {
    "name": "ipython",
    "version": 3
   },
   "file_extension": ".py",
   "mimetype": "text/x-python",
   "name": "python",
   "nbconvert_exporter": "python",
   "pygments_lexer": "ipython3",
   "version": "3.9.18"
  }
 },
 "nbformat": 4,
 "nbformat_minor": 5
}
